{
 "cells": [
  {
   "cell_type": "code",
   "execution_count": 668,
   "metadata": {},
   "outputs": [],
   "source": [
    "import torch \n",
    "from pyro import poutine\n",
    "import numpy as np\n",
    "from pyro.infer.autoguide.initialization import init_to_sample\n",
    "from collections import defaultdict\n",
    "import pyro as pyro\n",
    "from pyro import plate\n",
    "from torch.distributions.dirichlet import Dirichlet as dirichlet\n",
    "import pyro.distributions as dist\n",
    "from torch.distributions import constraints\n",
    "from pyro.distributions import Dirichlet, Gamma"
   ]
  },
  {
   "cell_type": "code",
   "execution_count": 669,
   "metadata": {},
   "outputs": [],
   "source": [
    "from pyro import poutine\n",
    "from pyro.infer.autoguide import AutoDelta\n",
    "from pyro.optim import Adam\n",
    "from pyro.infer import SVI, TraceEnum_ELBO, config_enumerate, infer_discrete\n"
   ]
  },
  {
   "cell_type": "code",
   "execution_count": 801,
   "metadata": {},
   "outputs": [],
   "source": [
    "# Here I will wefine all of the constants\n",
    "num_people = 10000\n",
    "num_questions = 30\n",
    "\n",
    "#I will assume that each question has the same number of levels (options)\n",
    "num_levels = 3\n",
    "\n",
    "# Say there are only republicans and democrats\n",
    "num_profiles = 2"
   ]
  },
  {
   "cell_type": "code",
   "execution_count": 802,
   "metadata": {},
   "outputs": [],
   "source": [
    "# data generation process \n",
    "def generate_data(): \n",
    "    # This will contain the \"true values\"\n",
    "    params = {}\n",
    "    \n",
    "    params['alpha_0'] = pyro.sample('alpha_0',dist.Gamma(1,1))\n",
    "    xi_dist = Dirichlet(torch.ones(num_profiles))\n",
    "    params['xi'] = pyro.sample('xi', xi_dist)\n",
    "    alpha = params['xi'] * params['alpha_0']\n",
    "    \n",
    "    \n",
    "    \n",
    "    #Shape [num_people, num_profiles]\n",
    "    #Determines membership of each person to the profiles\n",
    "    with plate(\"g_vals\", size = num_people):\n",
    "        params['g'] = pyro.sample('g',Dirichlet(alpha))\n",
    "    \n",
    "    #Here I determine the values for the lambda\n",
    "    #Shape [num_profiles, num_questions, num_levels]\n",
    "    #First index determines extreme profile \n",
    "    #Second index determines question analized\n",
    "    #Third index determines probabilities of levels\n",
    "    with plate('question_probabilities', size=num_questions):\n",
    "        with plate('pure_profiles', size=num_profiles):\n",
    "            params['lambdas'] = pyro.sample('lambda', Dirichlet(torch.ones(num_profiles,num_questions,num_levels) * 0.4))\n",
    "\n",
    "    #Here I determine the values for the Z\n",
    "    #Shape [num_people, num_questions]\n",
    "    #First index determines the person to  analyze\n",
    "    #Second index determines the profile assumed in question\n",
    "    with plate('profile_in_question', size=num_questions):\n",
    "        with plate('profile_assumed_p', size=num_people):\n",
    "            g_altered = torch.ones(num_questions,num_people,num_profiles) * params['g'] #trick to duplicate data\n",
    "            g_altered = g_altered.permute(1,0,2) # Change axis to match what i find inutitive\n",
    "            params['profile_assumed'] = pyro.sample('profiles_assumed',dist.Categorical(g_altered))\n",
    "            \n",
    "                                             \n",
    "    #There are the survey answers\n",
    "    #Shape [num_people,num_questions]\n",
    "    #First index represents person who answered the survey\n",
    "    #Second index represents number of the question\n",
    "    with plate('answers_questions', size=num_questions) as questions: \n",
    "        with plate('answers_person', size=num_people): \n",
    "            #Clever indexing and batching tricks \n",
    "            # I am sorry about this I struggled finding a simpler way to do this\n",
    "            # This is certainly bad style and should be corrected I am just not quite sure how\n",
    "            range_questions = torch.arange(num_questions, dtype=torch.long)\n",
    "            range_questions = torch.ones(num_people,num_questions,dtype=torch.long) * range_questions\n",
    "            effective_lambdas = params['lambdas'][params['profile_assumed'],range_questions]\n",
    "            params['answers'] = pyro.sample('answers', dist.Categorical(effective_lambdas))\n",
    "            \n",
    "        \n",
    "        \n",
    "    return params"
   ]
  },
  {
   "cell_type": "code",
   "execution_count": 806,
   "metadata": {},
   "outputs": [
    {
     "name": "stdout",
     "output_type": "stream",
     "text": [
      "              Trace Shapes:                \n",
      "               Param Sites:                \n",
      "              Sample Sites:                \n",
      "               alpha_0 dist             |  \n",
      "                      value             |  \n",
      "                    xi dist             | 2\n",
      "                      value             | 2\n",
      "                g_vals dist             |  \n",
      "                      value       10000 |  \n",
      "                     g dist       10000 | 2\n",
      "                      value       10000 | 2\n",
      "question_probabilities dist             |  \n",
      "                      value          30 |  \n",
      "         pure_profiles dist             |  \n",
      "                      value           2 |  \n",
      "                lambda dist     2    30 | 3\n",
      "                      value     2    30 | 3\n",
      "   profile_in_question dist             |  \n",
      "                      value          30 |  \n",
      "     profile_assumed_p dist             |  \n",
      "                      value       10000 |  \n",
      "      profiles_assumed dist 10000    30 |  \n",
      "                      value 10000    30 |  \n",
      "     answers_questions dist             |  \n",
      "                      value          30 |  \n",
      "        answers_person dist             |  \n",
      "                      value       10000 |  \n",
      "               answers dist 10000    30 |  \n",
      "                      value 10000    30 |  \n"
     ]
    }
   ],
   "source": [
    "trace = poutine.trace(generate_data).get_trace()\n",
    "print(trace.format_shapes())"
   ]
  },
  {
   "cell_type": "code",
   "execution_count": 807,
   "metadata": {},
   "outputs": [
    {
     "name": "stdout",
     "output_type": "stream",
     "text": [
      "The true parameters are: \n",
      "--------------------\n",
      "alpha_0:\n",
      "torch.Size([])\n",
      "tensor(0.6900)\n",
      "--------------------\n",
      "xi:\n",
      "torch.Size([2])\n",
      "tensor([0.2827, 0.7173])\n",
      "--------------------\n",
      "g:\n",
      "torch.Size([10000, 2])\n",
      "tensor([[7.5286e-01, 2.4714e-01],\n",
      "        [9.6083e-04, 9.9904e-01],\n",
      "        [9.0591e-01, 9.4091e-02],\n",
      "        ...,\n",
      "        [3.2623e-01, 6.7377e-01],\n",
      "        [1.0992e-07, 1.0000e+00],\n",
      "        [9.3850e-01, 6.1503e-02]])\n",
      "--------------------\n",
      "lambdas:\n",
      "torch.Size([2, 30, 3])\n",
      "tensor([[[7.9632e-01, 1.9335e-01, 1.0332e-02],\n",
      "         [3.9245e-01, 6.0650e-01, 1.0499e-03],\n",
      "         [1.2393e-01, 1.4919e-01, 7.2687e-01],\n",
      "         [2.7279e-03, 2.8053e-01, 7.1674e-01],\n",
      "         [2.9775e-01, 5.8610e-01, 1.1615e-01],\n",
      "         [9.0197e-01, 9.4245e-02, 3.7839e-03],\n",
      "         [4.4061e-01, 7.9977e-02, 4.7942e-01],\n",
      "         [4.9585e-02, 7.7392e-01, 1.7649e-01],\n",
      "         [6.1280e-01, 3.0120e-01, 8.6005e-02],\n",
      "         [3.4853e-03, 9.0477e-01, 9.1743e-02],\n",
      "         [9.3327e-02, 9.0126e-01, 5.4136e-03],\n",
      "         [2.4908e-02, 3.9675e-01, 5.7834e-01],\n",
      "         [1.9041e-01, 4.2493e-01, 3.8465e-01],\n",
      "         [1.7016e-01, 8.2983e-01, 7.5555e-06],\n",
      "         [3.0052e-01, 2.4384e-03, 6.9704e-01],\n",
      "         [1.2862e-01, 6.2357e-01, 2.4782e-01],\n",
      "         [4.7773e-01, 2.0280e-01, 3.1947e-01],\n",
      "         [7.5470e-01, 2.1991e-03, 2.4310e-01],\n",
      "         [1.3044e-01, 7.7441e-01, 9.5153e-02],\n",
      "         [8.9162e-01, 6.6662e-02, 4.1721e-02],\n",
      "         [7.2340e-01, 1.4747e-04, 2.7645e-01],\n",
      "         [1.1232e-01, 3.7732e-02, 8.4995e-01],\n",
      "         [2.2628e-01, 2.7761e-01, 4.9611e-01],\n",
      "         [8.5122e-02, 8.0013e-01, 1.1475e-01],\n",
      "         [9.9909e-01, 8.8283e-04, 2.9098e-05],\n",
      "         [7.8290e-01, 1.0401e-01, 1.1309e-01],\n",
      "         [1.5751e-02, 2.1351e-01, 7.7074e-01],\n",
      "         [2.3154e-01, 4.4413e-02, 7.2405e-01],\n",
      "         [6.9079e-02, 3.7742e-01, 5.5350e-01],\n",
      "         [1.3343e-02, 8.4209e-01, 1.4457e-01]],\n",
      "\n",
      "        [[1.9717e-01, 3.9832e-02, 7.6300e-01],\n",
      "         [7.3168e-01, 2.4316e-01, 2.5163e-02],\n",
      "         [3.8224e-01, 6.0206e-01, 1.5697e-02],\n",
      "         [1.9431e-03, 5.0311e-05, 9.9801e-01],\n",
      "         [9.9792e-01, 1.3308e-03, 7.5043e-04],\n",
      "         [1.4676e-02, 9.3340e-02, 8.9198e-01],\n",
      "         [8.0681e-01, 2.1157e-04, 1.9298e-01],\n",
      "         [2.2853e-01, 5.6261e-02, 7.1521e-01],\n",
      "         [7.4730e-02, 9.2322e-01, 2.0459e-03],\n",
      "         [2.5363e-04, 8.0297e-01, 1.9678e-01],\n",
      "         [1.4966e-08, 8.5680e-01, 1.4320e-01],\n",
      "         [2.8014e-05, 8.1520e-01, 1.8477e-01],\n",
      "         [8.5934e-02, 8.0295e-01, 1.1112e-01],\n",
      "         [3.6747e-01, 5.4289e-01, 8.9634e-02],\n",
      "         [2.3095e-03, 4.9793e-02, 9.4790e-01],\n",
      "         [1.4692e-01, 4.0285e-01, 4.5022e-01],\n",
      "         [9.8230e-01, 1.5204e-02, 2.4968e-03],\n",
      "         [3.4419e-01, 6.0395e-01, 5.1859e-02],\n",
      "         [3.6855e-01, 1.8605e-01, 4.4540e-01],\n",
      "         [3.4339e-04, 1.7397e-01, 8.2569e-01],\n",
      "         [6.5942e-02, 1.4351e-01, 7.9055e-01],\n",
      "         [2.5283e-03, 8.1147e-01, 1.8600e-01],\n",
      "         [9.2127e-04, 9.7618e-01, 2.2896e-02],\n",
      "         [1.3767e-01, 3.2467e-04, 8.6200e-01],\n",
      "         [7.5774e-02, 5.9956e-02, 8.6427e-01],\n",
      "         [1.0068e-01, 1.4808e-03, 8.9784e-01],\n",
      "         [5.8347e-01, 4.1503e-01, 1.4972e-03],\n",
      "         [5.1992e-01, 1.1041e-02, 4.6904e-01],\n",
      "         [6.8734e-01, 2.8365e-01, 2.9006e-02],\n",
      "         [9.5232e-01, 9.6859e-03, 3.7996e-02]]])\n",
      "--------------------\n",
      "profile_assumed:\n",
      "torch.Size([10000, 30])\n",
      "tensor([[0, 0, 1,  ..., 1, 0, 0],\n",
      "        [1, 1, 1,  ..., 1, 1, 1],\n",
      "        [0, 0, 0,  ..., 1, 0, 0],\n",
      "        ...,\n",
      "        [1, 0, 1,  ..., 0, 0, 0],\n",
      "        [1, 1, 1,  ..., 1, 1, 1],\n",
      "        [0, 0, 0,  ..., 0, 0, 0]])\n",
      "--------------------\n",
      "answers:\n",
      "torch.Size([10000, 30])\n",
      "tensor([[1, 0, 0,  ..., 0, 1, 0],\n",
      "        [2, 0, 0,  ..., 2, 0, 0],\n",
      "        [0, 0, 2,  ..., 0, 2, 1],\n",
      "        ...,\n",
      "        [2, 1, 1,  ..., 2, 2, 2],\n",
      "        [2, 1, 1,  ..., 2, 0, 0],\n",
      "        [0, 1, 2,  ..., 1, 2, 1]])\n"
     ]
    }
   ],
   "source": [
    "params = generate_data()\n",
    "\n",
    "print(\"The true parameters are: \")\n",
    "for param in params: \n",
    "    print(\"-\"*20)\n",
    "    print(param + \":\")\n",
    "    print(params[param].shape)\n",
    "    print(params[param])"
   ]
  },
  {
   "cell_type": "code",
   "execution_count": 808,
   "metadata": {},
   "outputs": [],
   "source": [
    "\n",
    "@config_enumerate\n",
    "def model(data): \n",
    "    alpha_0 = pyro.sample('alpha_0',dist.Gamma(2,1))\n",
    "    xi_dist = Dirichlet(torch.ones(num_profiles))\n",
    "    xi = pyro.sample('xi', xi_dist)\n",
    "    alpha = xi * alpha_0\n",
    "    \n",
    "    \n",
    "    \n",
    "    #Shape [num_people, num_profiles]\n",
    "    #Determines membership of each person to the profiles\n",
    "    with plate(\"g_vals\", size = num_people):\n",
    "        g = pyro.sample('g',Dirichlet(alpha))\n",
    "    \n",
    "    #Here I determine the values for the lambda\n",
    "    #Shape [num_profiles, num_questions, num_levels]\n",
    "    #First index determines extreme profile \n",
    "    #Second index determines question analized\n",
    "    #Third index determines probabilities of levels\n",
    "    with plate('question_probabilities', size=num_questions):\n",
    "        with plate('pure_profiles', size=num_profiles):\n",
    "            lambdas = pyro.sample('lambda', Dirichlet(torch.ones(num_profiles,num_questions,num_levels)))\n",
    "\n",
    "    #Here I determine the values for the Z\n",
    "    #Shape [num_people, num_questions]\n",
    "    #First index determines the person to  analyze\n",
    "    #Second index determines the profile assumed in question\n",
    "    with plate('profile_in_question', size=num_questions):\n",
    "        with plate('profile_assumed_p', size=num_people):\n",
    "            g_altered = torch.ones(num_questions,num_people,num_profiles) * g #trick to duplicate data\n",
    "            g_altered = g_altered.permute(1,0,2) # Change axis to match what i find inutitive\n",
    "            profile_assumed = pyro.sample('profiles_assumed',dist.Categorical(g_altered))\n",
    "            \n",
    "                                             \n",
    "    #There are the survey answers\n",
    "    #Shape [num_people,num_questions]\n",
    "    #First index represents person who answered the survey\n",
    "    #Second index represents number of the question\n",
    "    with plate('answers_questions', size=num_questions) as questions: \n",
    "        with plate('answers_person', size=num_people): \n",
    "            #Clever indexing and batching tricks \n",
    "            # I am sorry about this I struggled finding a simpler way to do this\n",
    "            # This is certainly bad style and should be corrected I am just not quite sure how\n",
    "            range_questions = torch.arange(num_questions, dtype=torch.long)\n",
    "            range_questions = torch.ones(num_people,num_questions,dtype=torch.long) * range_questions\n",
    "            effective_lambdas = lambdas[profile_assumed,range_questions]\n",
    "            answers = pyro.sample('answers', dist.Categorical(effective_lambdas), obs=data)\n",
    "\n"
   ]
  },
  {
   "cell_type": "code",
   "execution_count": 809,
   "metadata": {},
   "outputs": [],
   "source": [
    "def guide(data): \n",
    "    k_gamma = pyro.param('k_gamma', torch.tensor(1.0), constraint=constraints.positive)\n",
    "    theta_gamma = pyro.param('k_gamma', torch.tensor(1.0), constraint=constraints.positive)\n",
    "    xi_means = pyro.param('xi_means', torch.ones(num_profiles), constraint=constraints.positive)\n",
    "    alpha = pyro.param('alpha', torch.ones((num_people,num_profiles)), constraint=constraints.positive) \n",
    "    lambdas_val = pyro.param('lambda_vals', torch.ones((num_profiles,num_questions,num_levels)), constraint=constraints.positive)\n",
    "    \n",
    "    alpha_0 = pyro.sample('alpha_0', Gamma(k_gamma,theta_gamma))\n",
    "    xi = pyro.sample('xi', Dirichlet(xi_means))\n",
    "    with plate(\"g_vals\", size = num_people):\n",
    "        g = pyro.sample('g',Dirichlet(alpha))\n",
    "\n",
    "    with plate('question_probabilities', size=num_questions):\n",
    "        with plate('pure_profiles', size=num_profiles):\n",
    "            lambdas = pyro.sample('lambda', Dirichlet(lambdas_val))\n",
    "    \n",
    "    "
   ]
  },
  {
   "cell_type": "markdown",
   "metadata": {},
   "source": [
    "Now this is all stuff related to training. We did here two things to marginalize the $Z$ first we use the ``@config_enumerate`` decorator. The second thing is that when using the auto delta we only expose the parameters which are not discrete.  Finally, we used as our loss TraceEnum_Elbo instead of the regular ELBO. I am not a hundered percent sure how all of this works. I know that you should use this from looking at the documentation, but I don't understand precisely how this works. "
   ]
  },
  {
   "cell_type": "code",
   "execution_count": 791,
   "metadata": {},
   "outputs": [],
   "source": [
    "optim = pyro.optim.Adam({'lr': 0.05, 'betas':[0.09,0.99]})\n",
    "elbo = TraceEnum_ELBO(max_plate_nesting=2)\n"
   ]
  },
  {
   "cell_type": "code",
   "execution_count": 810,
   "metadata": {},
   "outputs": [
    {
     "name": "stdout",
     "output_type": "stream",
     "text": [
      "173116.9375\n",
      "0\n",
      "39686.8671875\n",
      "200\n",
      "32512.48828125\n",
      "400\n",
      "27239.90234375\n",
      "600\n",
      "26002.828125\n",
      "800\n",
      "25862.9765625\n",
      "1000\n"
     ]
    }
   ],
   "source": [
    "# Register hooks to monitor gradient norms.\n",
    "pyro.clear_param_store()\n",
    "svi = SVI(model,guide,optim,loss=elbo)\n",
    "gradient_norms = defaultdict(list)\n",
    "for name, value in pyro.get_param_store().named_parameters():\n",
    "    value.register_hook(lambda gu, name=name: gradient_norms[name].append(gu.norm().item()))\n",
    "\n",
    "losses = []\n",
    "for i in range(1200):\n",
    "    loss = svi.step(params['answers'])\n",
    "    losses.append(loss)\n",
    "    if i % 200 == 0: \n",
    "        print(loss)\n",
    "        print(i)\n"
   ]
  },
  {
   "cell_type": "code",
   "execution_count": 811,
   "metadata": {},
   "outputs": [
    {
     "data": {
      "image/png": "[encoded data removed]",
      "text/plain": [
       "<Figure size 1000x300 with 1 Axes>"
      ]
     },
     "metadata": {},
     "output_type": "display_data"
    }
   ],
   "source": [
    "import matplotlib.pyplot as plt\n",
    "\n",
    "plt.figure(figsize=(10,3), dpi=100).set_facecolor('white')\n",
    "plt.plot(losses)\n",
    "plt.xlabel('iters')\n",
    "plt.ylabel('loss')\n",
    "plt.title('Convergence of SVI');\n"
   ]
  },
  {
   "cell_type": "markdown",
   "metadata": {},
   "source": [
    "So we see that this converges quite nicely now we can take a look at the predicted values of the parameters"
   ]
  },
  {
   "cell_type": "code",
   "execution_count": null,
   "metadata": {},
   "outputs": [],
   "source": [
    "from pyro.infer import Predictive \n",
    "\n",
    "num_samples = 20000\n",
    "predictive = Predictive(model, guide=guide,num_samples=num_samples)\n",
    "samples = {k: v.detach().cpu().numpy()\n",
    "               for k, v in predictive(params['answers']).items()\n",
    "               if k != \"obs\"}"
   ]
  },
  {
   "cell_type": "code",
   "execution_count": null,
   "metadata": {},
   "outputs": [],
   "source": [
    "g_inf = samples['g'].mean(0)\n",
    "g_real = params['g'].detach().numpy()"
   ]
  },
  {
   "cell_type": "code",
   "execution_count": null,
   "metadata": {},
   "outputs": [],
   "source": [
    "g_inf2 = g_inf[0]\n"
   ]
  },
  {
   "cell_type": "code",
   "execution_count": 771,
   "metadata": {},
   "outputs": [
    {
     "data": {
      "text/plain": [
       "<AxesSubplot:>"
      ]
     },
     "execution_count": 771,
     "metadata": {},
     "output_type": "execute_result"
    },
    {
     "data": {
      "image/png": "[encoded data removed]",
      "text/plain": [
       "<Figure size 432x288 with 2 Axes>"
      ]
     },
     "metadata": {
      "needs_background": "light"
     },
     "output_type": "display_data"
    }
   ],
   "source": [
    "sbn.heatmap(g_inf2, cmap='vlag')"
   ]
  },
  {
   "cell_type": "code",
   "execution_count": 805,
   "metadata": {},
   "outputs": [
    {
     "data": {
      "text/plain": [
       "<AxesSubplot:>"
      ]
     },
     "execution_count": 805,
     "metadata": {},
     "output_type": "execute_result"
    },
    {
     "data": {
      "image/png": "[encoded data removed]",
      "text/plain": [
       "<Figure size 432x288 with 2 Axes>"
      ]
     },
     "metadata": {
      "needs_background": "light"
     },
     "output_type": "display_data"
    }
   ],
   "source": [
    "sbn.heatmap(params['g'].detach().numpy(),cmap='vlag')"
   ]
  },
  {
   "cell_type": "code",
   "execution_count": 773,
   "metadata": {},
   "outputs": [
    {
     "data": {
      "text/plain": [
       "<AxesSubplot:>"
      ]
     },
     "execution_count": 773,
     "metadata": {},
     "output_type": "execute_result"
    },
    {
     "data": {
      "image/png": "[encoded data removed]",
      "text/plain": [
       "<Figure size 432x288 with 2 Axes>"
      ]
     },
     "metadata": {
      "needs_background": "light"
     },
     "output_type": "display_data"
    }
   ],
   "source": [
    "sbn.heatmap(g_inf2 - g_real, cmap='vlag')"
   ]
  },
  {
   "cell_type": "code",
   "execution_count": 775,
   "metadata": {},
   "outputs": [
    {
     "data": {
      "text/plain": [
       "array([[-0.51603496,  0.5160352 ],\n",
       "       [-0.4906384 ,  0.49063858],\n",
       "       [-0.45923316,  0.45923308],\n",
       "       ...,\n",
       "       [-0.47256595,  0.47256586],\n",
       "       [-0.44084245,  0.44084227],\n",
       "       [-0.46936584,  0.46936634]], dtype=float32)"
      ]
     },
     "execution_count": 775,
     "metadata": {},
     "output_type": "execute_result"
    }
   ],
   "source": [
    "g_inf[0] - g_real"
   ]
  },
  {
   "cell_type": "code",
   "execution_count": null,
   "metadata": {},
   "outputs": [],
   "source": []
  }
 ],
 "metadata": {
  "kernelspec": {
   "display_name": "Python 3",
   "language": "python",
   "name": "python3"
  },
  "language_info": {
   "codemirror_mode": {
    "name": "ipython",
    "version": 3
   },
   "file_extension": ".py",
   "mimetype": "text/x-python",
   "name": "python",
   "nbconvert_exporter": "python",
   "pygments_lexer": "ipython3",
   "version": "3.8.5"
  }
 },
 "nbformat": 4,
 "nbformat_minor": 4
}
